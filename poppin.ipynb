{
 "cells": [
  {
   "cell_type": "markdown",
   "metadata": {},
   "source": [
    "# Poppin "
   ]
  },
  {
   "cell_type": "code",
   "execution_count": 125,
   "metadata": {},
   "outputs": [],
   "source": [
    "import pandas as pd\n",
    "import numpy as np\n",
    "import requests\n",
    "from bs4 import BeautifulSoup\n",
    "pd.options.mode.chained_assignment = None"
   ]
  },
  {
   "cell_type": "markdown",
   "metadata": {},
   "source": [
    "### Scrape data\n"
   ]
  },
  {
   "cell_type": "markdown",
   "metadata": {},
   "source": [
    "#### Scrape 40 most popular list"
   ]
  },
  {
   "cell_type": "code",
   "execution_count": 126,
   "metadata": {},
   "outputs": [],
   "source": [
    "#https://stockx.com/sneakers/most-popular\n",
    "headers = {'user-agent': 'Mozilla/5.0 (Windows NT 6.1) AppleWebKit/537.36 (KHTML, like Gecko) Chrome/41.0.2228.0 Safari/537.3'}\n",
    "mostpopularget = requests.get('https://stockx.com/sneakers/most-popular', headers=headers).text\n",
    "mostpopularpage = BeautifulSoup(mostpopularget, 'html.parser')\n",
    "sneakerdivs = mostpopularpage.findAll('div', class_='css-1ibvugw-GridProductTileContainer')\n",
    "#class=\"css-1ibvugw-GridProductTileContainer\"\n"
   ]
  },
  {
   "cell_type": "code",
   "execution_count": 127,
   "metadata": {},
   "outputs": [],
   "source": [
    "#print(sneakerdivs[0].prettify())\n",
    "mostpopular40 = pd.DataFrame()\n",
    "\n",
    "for index, item in enumerate(sneakerdivs):\n",
    "    #print(item.prettify())\n",
    "    link = item.find('a')\n",
    "    #print(link.attrs['href'])\n",
    "    sneaker = item.find('p', class_='chakra-text css-3lpefb')\n",
    "    #print(sneaker.string)\n",
    "    newsneaker = pd.DataFrame({'Rank': (index+1), 'Sneaker':sneaker.string, 'Link': link.attrs['href']}, index=[index])\n",
    "    mostpopular40 =  pd.concat([ mostpopular40, newsneaker],ignore_index=True)\n",
    "    #mostpopular40 = mostpopular40.append({'Rank': (index+1), 'Sneaker':sneaker.string, 'Link': link.attrs['href']}, ignore_index=True, sort=False )\n",
    "mostpopular40['Date in Most Popular'] = pd.to_datetime('today')\n",
    "\n",
    "mostpopular40.to_csv('./scrape_pull/'+ str(pd.to_datetime('today').year)+str(pd.to_datetime('today').month)+str(pd.to_datetime('today').day)+'mostpopular40_list.csv')"
   ]
  },
  {
   "cell_type": "markdown",
   "metadata": {},
   "source": [
    "#### Scrape details for 40 most popular"
   ]
  },
  {
   "cell_type": "code",
   "execution_count": 135,
   "metadata": {},
   "outputs": [
    {
     "name": "stdout",
     "output_type": "stream",
     "text": [
      "0\n",
      "1\n",
      "2\n",
      "3\n",
      "4\n",
      "5\n",
      "6\n",
      "7\n",
      "8\n",
      "9\n",
      "10\n",
      "11\n",
      "12\n",
      "13\n",
      "14\n",
      "15\n",
      "16\n",
      "17\n",
      "18\n",
      "19\n",
      "20\n",
      "21\n",
      "22\n",
      "23\n",
      "24\n",
      "25\n",
      "26\n",
      "27\n",
      "28\n",
      "29\n",
      "30\n",
      "31\n",
      "32\n",
      "33\n",
      "34\n",
      "35\n",
      "36\n",
      "37\n",
      "38\n",
      "39\n"
     ]
    }
   ],
   "source": [
    "mostpopular40details = pd.DataFrame()\n",
    "for index, item in mostpopular40.iterrows():\n",
    "    #print(index)\n",
    "    populartarget = requests.get('https://stockx.com'+item['Link'], headers=headers).text\n",
    "    popularpage = BeautifulSoup(populartarget, 'html.parser')   \n",
    "    sneakermodel = popularpage.find('h1', class_='chakra-heading css-146c51c')\n",
    "    #print(sneakermodel.contents[0])\n",
    "    sneakermodelsubname = popularpage.find('span', class_='chakra-heading css-xgzdo7')\n",
    "    #print(sneakermodelsubname.string)\n",
    "    sneakerdetails = popularpage.find_all('p', class_='chakra-text css-ziwxw9')\n",
    "    #print(sneakerdetails[0].string) # StyleCode\n",
    "    #print(sneakerdetails[1].string) # Colorway\n",
    "    #print(sneakerdetails[2].string) # Retail Price\n",
    "    #releasedate = sneakerdetails[3].string if len(sneakerdetails)==4 else np.nan\n",
    "\n",
    "    lastsale = popularpage.find('p', class_='chakra-text css-xfmxd4')\n",
    "    #print(lastsale.string)\n",
    "    sneakerimage = popularpage.find('div', class_='css-1iec7mm')\n",
    "    #print(sneakerimage.contents[0].attrs['src'])\n",
    "    newsneaker = pd.DataFrame({'Rank': item['Rank'], 'Sneaker Model':sneakermodel.contents[0], 'Sneaker Name':sneakermodelsubname.string,'Colorway':sneakerdetails[1].string, 'Style Code':sneakerdetails[0].string, 'Release Date': (sneakerdetails[3].string if len(sneakerdetails)==4 else np.nan), 'Retail Price':sneakerdetails[2].string, 'Last Sale':lastsale.string, 'Image Link': sneakerimage.contents[0].attrs['src'], 'Link': item['Link']}, index=[index])\n",
    "    mostpopular40details =  pd.concat([ mostpopular40details, newsneaker],ignore_index=True)\n",
    "mostpopular40details['Date in Most Popular'] = pd.to_datetime('today')\n",
    "\n",
    "mostpopular40details.to_csv('./scrape_pull/'+ str(pd.to_datetime('today').year)+str(pd.to_datetime('today').month)+str(pd.to_datetime('today').day)+'mostpopular40_details.csv')"
   ]
  }
 ],
 "metadata": {
  "interpreter": {
   "hash": "aee8b7b246df8f9039afb4144a1f6fd8d2ca17a180786b69acc140d282b71a49"
  },
  "kernelspec": {
   "display_name": "Python 3.10.4 64-bit",
   "language": "python",
   "name": "python3"
  },
  "language_info": {
   "codemirror_mode": {
    "name": "ipython",
    "version": 3
   },
   "file_extension": ".py",
   "mimetype": "text/x-python",
   "name": "python",
   "nbconvert_exporter": "python",
   "pygments_lexer": "ipython3",
   "version": "3.10.4"
  },
  "orig_nbformat": 4
 },
 "nbformat": 4,
 "nbformat_minor": 2
}
