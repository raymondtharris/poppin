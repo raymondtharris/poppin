{
 "cells": [
  {
   "cell_type": "markdown",
   "metadata": {},
   "source": [
    "# Poppin "
   ]
  },
  {
   "cell_type": "code",
   "execution_count": 152,
   "metadata": {},
   "outputs": [],
   "source": [
    "import pandas as pd\n",
    "import numpy as np\n",
    "import requests\n",
    "from bs4 import BeautifulSoup\n",
    "import matplotlib.pyplot as plt \n",
    "import seaborn as sns\n",
    "pd.options.mode.chained_assignment = None"
   ]
  },
  {
   "cell_type": "markdown",
   "metadata": {},
   "source": [
    "### Scrape data\n"
   ]
  },
  {
   "cell_type": "markdown",
   "metadata": {},
   "source": [
    "#### Scrape 40 most popular list"
   ]
  },
  {
   "cell_type": "code",
   "execution_count": 153,
   "metadata": {},
   "outputs": [],
   "source": [
    "#https://stockx.com/sneakers/most-popular\n",
    "headers = {'user-agent': 'Mozilla/5.0 (Windows NT 6.1) AppleWebKit/537.36 (KHTML, like Gecko) Chrome/41.0.2228.0 Safari/537.3'}\n",
    "mostpopularget = requests.get('https://stockx.com/sneakers/most-popular', headers=headers).text\n",
    "mostpopularpage = BeautifulSoup(mostpopularget, 'html.parser')\n",
    "sneakerdivs = mostpopularpage.findAll('div', class_='css-1ibvugw-GridProductTileContainer')\n",
    "#class=\"css-1ibvugw-GridProductTileContainer\"\n"
   ]
  },
  {
   "cell_type": "code",
   "execution_count": 154,
   "metadata": {},
   "outputs": [],
   "source": [
    "#print(sneakerdivs[0].prettify())\n",
    "mostpopular40 = pd.DataFrame()\n",
    "\n",
    "for index, item in enumerate(sneakerdivs):\n",
    "    #print(item.prettify())\n",
    "    link = item.find('a')\n",
    "    #print(link.attrs['href'])\n",
    "    sneaker = item.find('p', class_='chakra-text css-3lpefb')\n",
    "    #print(sneaker.string)\n",
    "    newsneaker = pd.DataFrame({'Rank': (index+1), 'Sneaker':sneaker.string, 'Link': link.attrs['href']}, index=[index])\n",
    "    mostpopular40 =  pd.concat([ mostpopular40, newsneaker],ignore_index=True)\n",
    "    #mostpopular40 = mostpopular40.append({'Rank': (index+1), 'Sneaker':sneaker.string, 'Link': link.attrs['href']}, ignore_index=True, sort=False )\n",
    "mostpopular40['Date in Most Popular'] = pd.to_datetime('today')\n",
    "\n",
    "mostpopular40.to_csv('./scrape_pull/'+ str(pd.to_datetime('today').year)+str(pd.to_datetime('today').month)+str(pd.to_datetime('today').day)+'mostpopular40_list.csv')"
   ]
  },
  {
   "cell_type": "markdown",
   "metadata": {},
   "source": [
    "#### Scrape details for 40 most popular"
   ]
  },
  {
   "cell_type": "code",
   "execution_count": 157,
   "metadata": {},
   "outputs": [
    {
     "name": "stdout",
     "output_type": "stream",
     "text": [
      "<div class=\"css-ps0b2c\"><style data-emotion=\"css g98gbd\">.css-g98gbd{object-fit:contain;}</style><img alt=\"Jordan 2 Retro SP Union Grey Fog\" class=\"chakra-image css-g98gbd\" data-component=\"StandardImage\" fetchpriority=\"high\" height=\"320px\" src=\"https://images.stockx.com/images/Air-Jordan-2-Retro-Union-Grey-Fog-2.jpg?fit=fill&amp;bg=FFFFFF&amp;w=480&amp;h=320&amp;fm=webp&amp;auto=compress&amp;dpr=2&amp;trim=color&amp;updated_at=1650038041&amp;q=80\" srcset=\"https://images.stockx.com/images/Air-Jordan-2-Retro-Union-Grey-Fog-2.jpg?fit=fill&amp;bg=FFFFFF&amp;w=480&amp;h=320&amp;fm=webp&amp;auto=compress&amp;dpr=1&amp;trim=color&amp;updated_at=1650038041&amp;q=80 1x,\n",
      "https://images.stockx.com/images/Air-Jordan-2-Retro-Union-Grey-Fog-2.jpg?fit=fill&amp;bg=FFFFFF&amp;w=480&amp;h=320&amp;fm=webp&amp;auto=compress&amp;dpr=2&amp;trim=color&amp;updated_at=1650038041&amp;q=75 2x,\n",
      "https://images.stockx.com/images/Air-Jordan-2-Retro-Union-Grey-Fog-2.jpg?fit=fill&amp;bg=FFFFFF&amp;w=480&amp;h=320&amp;fm=webp&amp;auto=compress&amp;dpr=3&amp;trim=color&amp;updated_at=1650038041&amp;q=50 3x,\n",
      "https://images.stockx.com/images/Air-Jordan-2-Retro-Union-Grey-Fog-2.jpg?fit=fill&amp;bg=FFFFFF&amp;w=480&amp;h=320&amp;fm=webp&amp;auto=compress&amp;dpr=4&amp;trim=color&amp;updated_at=1650038041&amp;q=45 4x,\n",
      "https://images.stockx.com/images/Air-Jordan-2-Retro-Union-Grey-Fog-2.jpg?fit=fill&amp;bg=FFFFFF&amp;w=480&amp;h=320&amp;fm=webp&amp;auto=compress&amp;dpr=5&amp;trim=color&amp;updated_at=1650038041&amp;q=40 5x\" width=\"480px\"/></div>\n"
     ]
    }
   ],
   "source": [
    "mostpopular40details = pd.DataFrame()\n",
    "for index, item in mostpopular40.iterrows():\n",
    "    #print(index)\n",
    "    populartarget = requests.get('https://stockx.com'+item['Link'], headers=headers).text\n",
    "    popularpage = BeautifulSoup(populartarget, 'html.parser')   \n",
    "    sneakermodel = popularpage.find('h1', class_='chakra-heading css-146c51c')\n",
    "    #print(sneakermodel.contents[0])\n",
    "    sneakermodelsubname = popularpage.find('span', class_='chakra-heading css-xgzdo7')\n",
    "    #print(sneakermodelsubname.string)\n",
    "    sneakerdetails = popularpage.find_all('p', class_='chakra-text css-ziwxw9')\n",
    "    #print(sneakerdetails[0].string) # StyleCode\n",
    "    #print(sneakerdetails[1].string) # Colorway\n",
    "    #print(sneakerdetails[2].string) # Retail Price\n",
    "    #releasedate = sneakerdetails[3].string if len(sneakerdetails)==4 else np.nan\n",
    "\n",
    "    lastsale = popularpage.find('p', class_='chakra-text css-xfmxd4')\n",
    "    #print(lastsale.string)\n",
    "    sneakerimage = popularpage.find('div', class_='css-1iec7mm')\n",
    "    sneakerimageb = popularpage.find('div', class_='css-11a0fku')\n",
    "    sneakerimagec = popularpage.find('div', class_='css-ps0b2c')\n",
    "    #if index==37:\n",
    "    #    print(sneakerimagec)\n",
    "    newsneaker = pd.DataFrame({'Rank': item['Rank'], 'Sneaker Model':sneakermodel.contents[0], 'Sneaker Name':sneakermodelsubname.string,'Colorway':sneakerdetails[1].string, 'Style Code':sneakerdetails[0].string, 'Release Date': (sneakerdetails[3].string if len(sneakerdetails)==4 else np.nan), 'Retail Price':sneakerdetails[2].string, 'Last Sale':lastsale.string, 'Image Link': (sneakerimage.contents[0].attrs['src'] if sneakerimage!=None else (sneakerimageb.contents[1].attrs['src'] if sneakerimageb!=None else sneakerimagec.contents[1].attrs['src'])) , 'Link': item['Link']}, index=[index])\n",
    "    mostpopular40details =  pd.concat([ mostpopular40details, newsneaker],ignore_index=True)\n",
    "mostpopular40details['Date in Most Popular'] = pd.to_datetime('today')\n",
    "\n",
    "mostpopular40details.to_csv('./scrape_pull/'+ str(pd.to_datetime('today').year)+str(pd.to_datetime('today').month)+str(pd.to_datetime('today').day)+'mostpopular40_details.csv')"
   ]
  },
  {
   "cell_type": "markdown",
   "metadata": {},
   "source": [
    "#### Daily Visualizations"
   ]
  },
  {
   "cell_type": "markdown",
   "metadata": {},
   "source": [
    "Brand Data"
   ]
  },
  {
   "cell_type": "code",
   "execution_count": 186,
   "metadata": {},
   "outputs": [],
   "source": [
    "\n",
    "temp = mostpopular40['Sneaker'].str.split(' ', n=1, expand=True)\n",
    "\n",
    "brands =temp[0].unique()\n",
    "\n",
    "branddata = pd.DataFrame()\n",
    "for brand in brands:\n",
    "    newbrand = pd.DataFrame({'Brand': brand, 'Count': np.count_nonzero(temp[0]==brand)}, index=[0])\n",
    "    branddata = pd.concat([branddata, newbrand], ignore_index=True)\n",
    "branddata['Brand'] = np.where(branddata['Brand']=='New', 'New Balance', branddata['Brand'])\n",
    "branddata = branddata.sort_values(by=['Count'], ascending=False)"
   ]
  },
  {
   "cell_type": "code",
   "execution_count": 187,
   "metadata": {},
   "outputs": [
    {
     "data": {
      "text/plain": [
       "<AxesSubplot:xlabel='Brand', ylabel='Count'>"
      ]
     },
     "execution_count": 187,
     "metadata": {},
     "output_type": "execute_result"
    },
    {
     "data": {
      "image/png": "[encoded data removed]",
      "text/plain": [
       "<Figure size 432x288 with 1 Axes>"
      ]
     },
     "metadata": {
      "needs_background": "light"
     },
     "output_type": "display_data"
    }
   ],
   "source": [
    "sns.barplot(x=branddata['Brand'], y=branddata['Count'])"
   ]
  }
 ],
 "metadata": {
  "interpreter": {
   "hash": "aee8b7b246df8f9039afb4144a1f6fd8d2ca17a180786b69acc140d282b71a49"
  },
  "kernelspec": {
   "display_name": "Python 3.10.4 64-bit",
   "language": "python",
   "name": "python3"
  },
  "language_info": {
   "codemirror_mode": {
    "name": "ipython",
    "version": 3
   },
   "file_extension": ".py",
   "mimetype": "text/x-python",
   "name": "python",
   "nbconvert_exporter": "python",
   "pygments_lexer": "ipython3",
   "version": "3.10.4"
  },
  "orig_nbformat": 4
 },
 "nbformat": 4,
 "nbformat_minor": 2
}
